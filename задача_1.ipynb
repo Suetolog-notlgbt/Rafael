{
  "nbformat": 4,
  "nbformat_minor": 0,
  "metadata": {
    "colab": {
      "provenance": [],
      "authorship_tag": "ABX9TyPOClvkk9l40VlrBVlt6FWW",
      "include_colab_link": true
    },
    "kernelspec": {
      "name": "python3",
      "display_name": "Python 3"
    },
    "language_info": {
      "name": "python"
    }
  },
  "cells": [
    {
      "cell_type": "markdown",
      "metadata": {
        "id": "view-in-github",
        "colab_type": "text"
      },
      "source": [
        "<a href=\"https://colab.research.google.com/github/Suetolog-notlgbt/Rafael/blob/main/%D0%B7%D0%B0%D0%B4%D0%B0%D1%87%D0%B0_1.ipynb\" target=\"_parent\"><img src=\"https://colab.research.google.com/assets/colab-badge.svg\" alt=\"Open In Colab\"/></a>"
      ]
    },
    {
      "cell_type": "code",
      "execution_count": null,
      "metadata": {
        "id": "ygAx7ST8cBxd"
      },
      "outputs": [],
      "source": [
        "#Команда меняющая местами переменные Рафаэль Вирабян copyright©\n",
        "a = int(input(\"Введите первое число: \"))\n",
        "b = int(input(\"Введите второе число: \"))\n",
        "t = a\n",
        "a = b\n",
        "b = t #мы вводим переменную t, чтобы мы сохранили значение a переменной\n",
        "\n",
        "print(a)\n",
        "print(b)\n",
        "print(\"Вуаля\")#выводим данные"
      ]
    },
    {
      "cell_type": "code",
      "source": [],
      "metadata": {
        "id": "hHZDCu0zdMZt"
      },
      "execution_count": null,
      "outputs": []
    }
  ]
}