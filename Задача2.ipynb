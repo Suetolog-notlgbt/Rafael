{
  "nbformat": 4,
  "nbformat_minor": 0,
  "metadata": {
    "colab": {
      "provenance": [],
      "authorship_tag": "ABX9TyNorUzHlpKrvB2cKuXYoFdZ",
      "include_colab_link": true
    },
    "kernelspec": {
      "name": "python3",
      "display_name": "Python 3"
    },
    "language_info": {
      "name": "python"
    }
  },
  "cells": [
    {
      "cell_type": "markdown",
      "metadata": {
        "id": "view-in-github",
        "colab_type": "text"
      },
      "source": [
        "<a href=\"https://colab.research.google.com/github/Suetolog-notlgbt/Rafael/blob/main/%D0%97%D0%B0%D0%B4%D0%B0%D1%87%D0%B02.ipynb\" target=\"_parent\"><img src=\"https://colab.research.google.com/assets/colab-badge.svg\" alt=\"Open In Colab\"/></a>"
      ]
    },
    {
      "cell_type": "code",
      "execution_count": null,
      "metadata": {
        "id": "umGZrstIf2-_"
      },
      "outputs": [],
      "source": [
        "#Команда для вычесления площади треугольника Рафаэль Вирабян copyright©\n",
        "print(\"Добро Пожаловать в приложение для вычесления площади треугольника. Пожалуйста, введите данные\")\n",
        "a = float(input(\"введите первое значение: \"))\n",
        "b = float(input(\"второ: \"))\n",
        "c = float(input(\"третье: \"))#пользователь вводит данные\n",
        "p = (a+b+c )/2 #вычисляет полупериметр\n",
        "from math import sqrt #ОБРАЩАЕМСЯ К БИБИЛИОТЕКЕ  MATHS для удобства\n",
        "s = sqrt(p*(p-a)*(p-b)*(p-c)) #формула геррона\n",
        "print(\"сейчас будет магия\")\n",
        "print(\"и вот ваша площадь\", \"{:7.2f}\".format(s))"
      ]
    },
    {
      "cell_type": "code",
      "source": [],
      "metadata": {
        "id": "2A1pIDFcjWJo"
      },
      "execution_count": null,
      "outputs": []
    }
  ]
}