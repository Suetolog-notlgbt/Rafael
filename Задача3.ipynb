{
  "nbformat": 4,
  "nbformat_minor": 0,
  "metadata": {
    "colab": {
      "provenance": [],
      "authorship_tag": "ABX9TyMehMhbHOrVio4kc9cmt0ja",
      "include_colab_link": true
    },
    "kernelspec": {
      "name": "python3",
      "display_name": "Python 3"
    },
    "language_info": {
      "name": "python"
    }
  },
  "cells": [
    {
      "cell_type": "markdown",
      "metadata": {
        "id": "view-in-github",
        "colab_type": "text"
      },
      "source": [
        "<a href=\"https://colab.research.google.com/github/Suetolog-notlgbt/Rafael/blob/main/%D0%97%D0%B0%D0%B4%D0%B0%D1%87%D0%B03.ipynb\" target=\"_parent\"><img src=\"https://colab.research.google.com/assets/colab-badge.svg\" alt=\"Open In Colab\"/></a>"
      ]
    },
    {
      "cell_type": "code",
      "execution_count": null,
      "metadata": {
        "id": "28qMPZs5jZQy"
      },
      "outputs": [],
      "source": [
        "#Команда вычисляющую сумму цифр в целого трёхзначного числа  Рафаэль Вирабян copyright©\n",
        "x = int(input(\"Введите трехзначное число : \"))\n",
        "a = x // 100 # сотни\n",
        "b = x % 100 // 10 # десятки находим через остатки от деления на сто и дальнейшего нахождения целового\n",
        "c = x % 10 # единицы остатки при деление на десять\n",
        "s = a + b + c\n",
        "print(\"Сумма цифр равна\", s)"
      ]
    }
  ]
}